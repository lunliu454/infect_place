{
 "cells": [
  {
   "cell_type": "code",
   "execution_count": 1,
   "metadata": {},
   "outputs": [],
   "source": [
    "import pandas as pd\n",
    "import numpy as np\n",
    "import seaborn as sns\n",
    "import matplotlib.pyplot as plt"
   ]
  },
  {
   "cell_type": "code",
   "execution_count": 12,
   "metadata": {
    "scrolled": true
   },
   "outputs": [],
   "source": [
    "eff_jp=pd.read_csv(\"base_jp.csv\")"
   ]
  },
  {
   "cell_type": "code",
   "execution_count": 3,
   "metadata": {},
   "outputs": [
    {
     "data": {
      "text/html": [
       "<div>\n",
       "<style scoped>\n",
       "    .dataframe tbody tr th:only-of-type {\n",
       "        vertical-align: middle;\n",
       "    }\n",
       "\n",
       "    .dataframe tbody tr th {\n",
       "        vertical-align: top;\n",
       "    }\n",
       "\n",
       "    .dataframe thead th {\n",
       "        text-align: right;\n",
       "    }\n",
       "</style>\n",
       "<table border=\"1\" class=\"dataframe\">\n",
       "  <thead>\n",
       "    <tr style=\"text-align: right;\">\n",
       "      <th></th>\n",
       "      <th>intervention</th>\n",
       "      <th>effect</th>\n",
       "      <th>se_effect</th>\n",
       "    </tr>\n",
       "  </thead>\n",
       "  <tbody>\n",
       "    <tr>\n",
       "      <th>0</th>\n",
       "      <td>School</td>\n",
       "      <td>-0.067971</td>\n",
       "      <td>0.413718</td>\n",
       "    </tr>\n",
       "    <tr>\n",
       "      <th>1</th>\n",
       "      <td>Childcare</td>\n",
       "      <td>-0.124883</td>\n",
       "      <td>0.130589</td>\n",
       "    </tr>\n",
       "    <tr>\n",
       "      <th>2</th>\n",
       "      <td>Retail</td>\n",
       "      <td>0.113270</td>\n",
       "      <td>0.070662</td>\n",
       "    </tr>\n",
       "    <tr>\n",
       "      <th>3</th>\n",
       "      <td>Restaurant</td>\n",
       "      <td>0.072689</td>\n",
       "      <td>0.200869</td>\n",
       "    </tr>\n",
       "    <tr>\n",
       "      <th>4</th>\n",
       "      <td>Bar</td>\n",
       "      <td>0.214990</td>\n",
       "      <td>0.231104</td>\n",
       "    </tr>\n",
       "    <tr>\n",
       "      <th>5</th>\n",
       "      <td>Entertainment</td>\n",
       "      <td>-0.752417</td>\n",
       "      <td>0.364288</td>\n",
       "    </tr>\n",
       "    <tr>\n",
       "      <th>6</th>\n",
       "      <td>Culture</td>\n",
       "      <td>0.063378</td>\n",
       "      <td>0.232110</td>\n",
       "    </tr>\n",
       "    <tr>\n",
       "      <th>7</th>\n",
       "      <td>Religion</td>\n",
       "      <td>-0.089172</td>\n",
       "      <td>0.277572</td>\n",
       "    </tr>\n",
       "    <tr>\n",
       "      <th>8</th>\n",
       "      <td>Sports indoor</td>\n",
       "      <td>-0.018446</td>\n",
       "      <td>0.142669</td>\n",
       "    </tr>\n",
       "    <tr>\n",
       "      <th>9</th>\n",
       "      <td>Sports outdoor</td>\n",
       "      <td>-0.065945</td>\n",
       "      <td>0.172104</td>\n",
       "    </tr>\n",
       "  </tbody>\n",
       "</table>\n",
       "</div>"
      ],
      "text/plain": [
       "     intervention    effect  se_effect\n",
       "0          School -0.067971   0.413718\n",
       "1       Childcare -0.124883   0.130589\n",
       "2          Retail  0.113270   0.070662\n",
       "3      Restaurant  0.072689   0.200869\n",
       "4             Bar  0.214990   0.231104\n",
       "5   Entertainment -0.752417   0.364288\n",
       "6         Culture  0.063378   0.232110\n",
       "7        Religion -0.089172   0.277572\n",
       "8   Sports indoor -0.018446   0.142669\n",
       "9  Sports outdoor -0.065945   0.172104"
      ]
     },
     "execution_count": 3,
     "metadata": {},
     "output_type": "execute_result"
    }
   ],
   "source": [
    "eff_jp"
   ]
  },
  {
   "cell_type": "code",
   "execution_count": 13,
   "metadata": {},
   "outputs": [
    {
     "data": {
      "text/plain": [
       "Text(0.5, 0, 'Japan')"
      ]
     },
     "execution_count": 13,
     "metadata": {},
     "output_type": "execute_result"
    },
    {
     "data": {
      "image/png": "[encoded data removed]",
      "text/plain": [
       "<Figure size 432x194.4 with 1 Axes>"
      ]
     },
     "metadata": {
      "needs_background": "light"
     },
     "output_type": "display_data"
    }
   ],
   "source": [
    "fig, ax = plt.subplots(figsize=(6,2.7))\n",
    "\n",
    "ax.spines['left'].set_visible(False)\n",
    "ax.spines['right'].set_visible(False)\n",
    "ax.spines['top'].set_visible(False)\n",
    "plt.axvline(x=0,ls=\"-\",linewidth=0.6,c=\"black\")\n",
    "\n",
    "plt.tick_params(labelsize=10)\n",
    "plt.errorbar(x=eff_jp[\"effect\"][::-1], \n",
    "             y=eff_jp[\"intervention\"][::-1], \n",
    "             xerr=eff_jp[\"se_effect\"][::-1]*1.96, \n",
    "             fmt=\"o\", \n",
    "             markersize=6,\n",
    "             #capsize=2, \n",
    "             elinewidth=1.5, \n",
    "             barsabove=False, \n",
    "             color='darkred',\n",
    "             ecolor='grey')\n",
    "plt.errorbar(x=[-0.895], \n",
    "             y=['Entertainment'], \n",
    "             xerr=[0.08], \n",
    "             xuplims=True, \n",
    "             capsize=3,\n",
    "             elinewidth=0.1, \n",
    "             color='darkred',\n",
    "             ecolor='grey')\n",
    "plt.xlim([-1, 1.5])\n",
    "plt.xlabel('Japan',fontsize=15,fontname='Helvetica')"
   ]
  },
  {
   "cell_type": "code",
   "execution_count": 14,
   "metadata": {},
   "outputs": [],
   "source": [
    "fig.savefig(\"effect_jp\",bbox_inches='tight',dpi=1080)"
   ]
  },
  {
   "cell_type": "code",
   "execution_count": 135,
   "metadata": {},
   "outputs": [],
   "source": [
    "eff_uk=pd.read_csv(\"base_uk.csv\")"
   ]
  },
  {
   "cell_type": "code",
   "execution_count": 136,
   "metadata": {},
   "outputs": [
    {
     "data": {
      "text/html": [
       "<div>\n",
       "<style scoped>\n",
       "    .dataframe tbody tr th:only-of-type {\n",
       "        vertical-align: middle;\n",
       "    }\n",
       "\n",
       "    .dataframe tbody tr th {\n",
       "        vertical-align: top;\n",
       "    }\n",
       "\n",
       "    .dataframe thead th {\n",
       "        text-align: right;\n",
       "    }\n",
       "</style>\n",
       "<table border=\"1\" class=\"dataframe\">\n",
       "  <thead>\n",
       "    <tr style=\"text-align: right;\">\n",
       "      <th></th>\n",
       "      <th>intervention</th>\n",
       "      <th>effect</th>\n",
       "      <th>se_effect</th>\n",
       "    </tr>\n",
       "  </thead>\n",
       "  <tbody>\n",
       "    <tr>\n",
       "      <th>0</th>\n",
       "      <td>School</td>\n",
       "      <td>0.271432</td>\n",
       "      <td>0.150460</td>\n",
       "    </tr>\n",
       "    <tr>\n",
       "      <th>1</th>\n",
       "      <td>Childcare</td>\n",
       "      <td>0.049752</td>\n",
       "      <td>0.093639</td>\n",
       "    </tr>\n",
       "    <tr>\n",
       "      <th>2</th>\n",
       "      <td>Retail+Large group in</td>\n",
       "      <td>-0.522906</td>\n",
       "      <td>0.331423</td>\n",
       "    </tr>\n",
       "    <tr>\n",
       "      <th>3</th>\n",
       "      <td>Restaurant+Small group in+Culture</td>\n",
       "      <td>-0.288213</td>\n",
       "      <td>0.121677</td>\n",
       "    </tr>\n",
       "    <tr>\n",
       "      <th>4</th>\n",
       "      <td>Sports indoor</td>\n",
       "      <td>-0.563873</td>\n",
       "      <td>0.217781</td>\n",
       "    </tr>\n",
       "  </tbody>\n",
       "</table>\n",
       "</div>"
      ],
      "text/plain": [
       "                        intervention    effect  se_effect\n",
       "0                             School  0.271432   0.150460\n",
       "1                          Childcare  0.049752   0.093639\n",
       "2              Retail+Large group in -0.522906   0.331423\n",
       "3  Restaurant+Small group in+Culture -0.288213   0.121677\n",
       "4                      Sports indoor -0.563873   0.217781"
      ]
     },
     "execution_count": 136,
     "metadata": {},
     "output_type": "execute_result"
    }
   ],
   "source": [
    "eff_uk"
   ]
  },
  {
   "cell_type": "code",
   "execution_count": 172,
   "metadata": {},
   "outputs": [
    {
     "data": {
      "text/plain": [
       "(-0.7, 5.0)"
      ]
     },
     "execution_count": 172,
     "metadata": {},
     "output_type": "execute_result"
    },
    {
     "data": {
      "image/png": "[encoded data removed]",
      "text/plain": [
       "<Figure size 432x108 with 1 Axes>"
      ]
     },
     "metadata": {
      "needs_background": "light"
     },
     "output_type": "display_data"
    }
   ],
   "source": [
    "fig,ax = plt.subplots(figsize=(6,1.5))\n",
    "\n",
    "ax.spines['left'].set_visible(False)\n",
    "ax.spines['right'].set_visible(False)\n",
    "ax.spines['top'].set_visible(False)\n",
    "plt.axvline(x=0,ls=\"-\",linewidth=0.6,c=\"black\")\n",
    "\n",
    "plt.tick_params(labelsize=10)\n",
    "plt.errorbar(x=eff_uk[\"effect\"][::-1], \n",
    "             y=eff_uk[\"intervention\"][::-1], \n",
    "             xerr=eff_uk[\"se_effect\"][::-1]*1.96, \n",
    "             fmt=\"o\", \n",
    "             markersize=6,\n",
    "             elinewidth=1.5, \n",
    "             barsabove=False, \n",
    "             color='darkred',\n",
    "             ecolor='grey')\n",
    "plt.errorbar(x=[-0.523], \n",
    "             y=['Retail+Large group in'], \n",
    "             xerr=[0.45], \n",
    "             xuplims=True, \n",
    "             capsize=3,\n",
    "             elinewidth=0.1, \n",
    "             color='darkred',\n",
    "             ecolor='grey')\n",
    "plt.errorbar(x=[-0.564], \n",
    "             y=['Sports indoor'], \n",
    "             xerr=[0.41], \n",
    "             xuplims=True,\n",
    "             capsize=3,\n",
    "             elinewidth=0.1, \n",
    "             color='darkred',\n",
    "             ecolor='grey')\n",
    "                \n",
    "plt.xlabel('United Kingdom',fontsize=15,fontname='Helvetica')\n",
    "plt.xlim([-1, 1.5])\n",
    "plt.ylim(-0.7,5)"
   ]
  },
  {
   "cell_type": "code",
   "execution_count": 173,
   "metadata": {},
   "outputs": [],
   "source": [
    "fig.savefig(\"effect_uk\",bbox_inches='tight',dpi=1080)"
   ]
  },
  {
   "cell_type": "code",
   "execution_count": 7,
   "metadata": {},
   "outputs": [],
   "source": [
    "eff_us=pd.read_csv(\"base_us.csv\")"
   ]
  },
  {
   "cell_type": "code",
   "execution_count": 10,
   "metadata": {},
   "outputs": [
    {
     "data": {
      "text/plain": [
       "(-1.0, 1.5)"
      ]
     },
     "execution_count": 10,
     "metadata": {},
     "output_type": "execute_result"
    },
    {
     "data": {
      "image/png": "[encoded data removed]",
      "text/plain": [
       "<Figure size 432x172.8 with 1 Axes>"
      ]
     },
     "metadata": {
      "needs_background": "light"
     },
     "output_type": "display_data"
    }
   ],
   "source": [
    "fig,ax = plt.subplots(figsize=(6,2.4))\n",
    "\n",
    "ax.spines['left'].set_visible(False)\n",
    "ax.spines['right'].set_visible(False)\n",
    "ax.spines['top'].set_visible(False)\n",
    "plt.axvline(x=0,ls=\"-\",linewidth=0.6,c=\"black\")\n",
    "\n",
    "plt.tick_params(labelsize=10)\n",
    "plt.errorbar(x=eff_us[\"effect\"][::-1], \n",
    "             y=eff_us[\"intervention\"][::-1], \n",
    "             xerr=eff_us[\"se_effect\"][::-1]*1.96, \n",
    "             fmt=\"o\", \n",
    "             markersize=6,\n",
    "             elinewidth=1.5, \n",
    "             barsabove=False, \n",
    "             color='darkred',\n",
    "             ecolor='grey')\n",
    "\n",
    "plt.xlabel('United States',fontsize=15)\n",
    "plt.xlim([-1, 1.5])\n",
    "#plt.ylim(-0.7,5)"
   ]
  },
  {
   "cell_type": "code",
   "execution_count": 11,
   "metadata": {},
   "outputs": [],
   "source": [
    "fig.savefig(\"effect_us\",bbox_inches='tight',dpi=1080)"
   ]
  },
  {
   "cell_type": "code",
   "execution_count": 157,
   "metadata": {},
   "outputs": [],
   "source": [
    "eff_bra=pd.read_csv(\"base_bra.csv\")"
   ]
  },
  {
   "cell_type": "code",
   "execution_count": 176,
   "metadata": {},
   "outputs": [
    {
     "data": {
      "text/plain": [
       "(-1.0, 1.5)"
      ]
     },
     "execution_count": 176,
     "metadata": {},
     "output_type": "execute_result"
    },
    {
     "data": {
      "image/png": "[encoded data removed]",
      "text/plain": [
       "<Figure size 432x187.2 with 1 Axes>"
      ]
     },
     "metadata": {
      "needs_background": "light"
     },
     "output_type": "display_data"
    }
   ],
   "source": [
    "fig,ax = plt.subplots(figsize=(6,2.6))\n",
    "\n",
    "ax.spines['left'].set_visible(False)\n",
    "ax.spines['right'].set_visible(False)\n",
    "ax.spines['top'].set_visible(False)\n",
    "plt.axvline(x=0,ls=\"-\",linewidth=0.6,c=\"black\")\n",
    "\n",
    "plt.tick_params(labelsize=10)\n",
    "plt.errorbar(x=eff_bra[\"effect\"][::-1], \n",
    "             y=eff_bra[\"intervention\"][::-1], \n",
    "             xerr=eff_bra[\"se_effect\"][::-1]*1.96, \n",
    "             fmt=\"o\", \n",
    "             markersize=6,\n",
    "             elinewidth=1.5, \n",
    "             barsabove=False, \n",
    "             color='darkred',\n",
    "             ecolor='grey')\n",
    "\n",
    "plt.xlabel('Brazil',fontsize=15)\n",
    "plt.xlim([-1, 1.5])"
   ]
  },
  {
   "cell_type": "code",
   "execution_count": 177,
   "metadata": {},
   "outputs": [],
   "source": [
    "fig.savefig(\"effect_bra\",bbox_inches='tight',dpi=1080)"
   ]
  },
  {
   "cell_type": "code",
   "execution_count": null,
   "metadata": {},
   "outputs": [],
   "source": []
  }
 ],
 "metadata": {
  "kernelspec": {
   "display_name": "Python 3",
   "language": "python",
   "name": "python3"
  },
  "language_info": {
   "codemirror_mode": {
    "name": "ipython",
    "version": 3
   },
   "file_extension": ".py",
   "mimetype": "text/x-python",
   "name": "python",
   "nbconvert_exporter": "python",
   "pygments_lexer": "ipython3",
   "version": "3.8.8"
  }
 },
 "nbformat": 4,
 "nbformat_minor": 4
}
